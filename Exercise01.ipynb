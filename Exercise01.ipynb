{
 "cells": [
  {
   "cell_type": "markdown",
   "id": "6146b108",
   "metadata": {},
   "source": [
    "# Exercise01\n",
    "\n",
    "### Samira Khan \n",
    "\n",
    "###  Tuesday 7th,2021 "
   ]
  },
  {
   "cell_type": "markdown",
   "id": "8f926a7a",
   "metadata": {},
   "source": [
    "## 1. Input and Output (10 points)"
   ]
  },
  {
   "cell_type": "markdown",
   "id": "79a405d1",
   "metadata": {},
   "source": [
    "#### Write a program that asks the user for a number, then prints out the square of the number. Write your program so it expects a floating-point number. Thus the input/output on your screen should look like this:"
   ]
  },
  {
   "cell_type": "markdown",
   "id": "dcbfa2eb",
   "metadata": {},
   "source": [
    "x = ? 3.5 \n",
    "\n",
    "x**2 = 12.25"
   ]
  },
  {
   "cell_type": "code",
   "execution_count": 1,
   "id": "4c9ee069",
   "metadata": {},
   "outputs": [
    {
     "name": "stdout",
     "output_type": "stream",
     "text": [
      "x = ? 3.5\n",
      "x**2 = 12.25\n"
     ]
    }
   ],
   "source": [
    "x = float(input(\"x = ? \"))\n",
    "\n",
    "print(\"x**2 =\", x**2)"
   ]
  },
  {
   "cell_type": "markdown",
   "id": "eca217aa",
   "metadata": {},
   "source": [
    "#### See what happens if you enter a word. How about an integer? Look at your variable window in each of these cases - what does it show you? Why does one of these work, while the other doesn’t?"
   ]
  },
  {
   "cell_type": "code",
   "execution_count": 2,
   "id": "98681d00",
   "metadata": {},
   "outputs": [
    {
     "name": "stdout",
     "output_type": "stream",
     "text": [
      "x = ? a\n"
     ]
    },
    {
     "ename": "ValueError",
     "evalue": "could not convert string to float: 'a'",
     "output_type": "error",
     "traceback": [
      "\u001b[1;31m---------------------------------------------------------------------------\u001b[0m",
      "\u001b[1;31mValueError\u001b[0m                                Traceback (most recent call last)",
      "\u001b[1;32m<ipython-input-2-f95179dd2679>\u001b[0m in \u001b[0;36m<module>\u001b[1;34m\u001b[0m\n\u001b[1;32m----> 1\u001b[1;33m \u001b[0mx\u001b[0m \u001b[1;33m=\u001b[0m \u001b[0mfloat\u001b[0m\u001b[1;33m(\u001b[0m\u001b[0minput\u001b[0m\u001b[1;33m(\u001b[0m\u001b[1;34m\"x = ? \"\u001b[0m\u001b[1;33m)\u001b[0m\u001b[1;33m)\u001b[0m\u001b[1;33m\u001b[0m\u001b[1;33m\u001b[0m\u001b[0m\n\u001b[0m\u001b[0;32m      2\u001b[0m \u001b[1;33m\u001b[0m\u001b[0m\n\u001b[0;32m      3\u001b[0m \u001b[0mprint\u001b[0m\u001b[1;33m(\u001b[0m\u001b[1;34m\"x**2 =\"\u001b[0m\u001b[1;33m,\u001b[0m \u001b[0mx\u001b[0m\u001b[1;33m**\u001b[0m\u001b[1;36m2\u001b[0m\u001b[1;33m)\u001b[0m\u001b[1;33m\u001b[0m\u001b[1;33m\u001b[0m\u001b[0m\n",
      "\u001b[1;31mValueError\u001b[0m: could not convert string to float: 'a'"
     ]
    }
   ],
   "source": [
    "x = float(input(\"x = ? \"))\n",
    "\n",
    "print(\"x**2 =\", x**2)"
   ]
  },
  {
   "cell_type": "code",
   "execution_count": 3,
   "id": "bbc09c55",
   "metadata": {},
   "outputs": [
    {
     "name": "stdout",
     "output_type": "stream",
     "text": [
      "x = ? 3\n",
      "x**2 = 9.0\n"
     ]
    }
   ],
   "source": [
    "x = float(input(\"x = ? \"))\n",
    "\n",
    "print(\"x**2 =\", x**2)"
   ]
  },
  {
   "cell_type": "markdown",
   "id": "ea8083e4",
   "metadata": {},
   "source": [
    "If I enter a word, it gives us an error message, but if I input an integer, it will provide me with a number. \n",
    "\n",
    "That is because an integer can still be taken as float, but a string can't be taken as a float."
   ]
  },
  {
   "cell_type": "markdown",
   "id": "0e98340e",
   "metadata": {},
   "source": [
    "## 2. More Input and Output (10 points)"
   ]
  },
  {
   "cell_type": "markdown",
   "id": "21172f20",
   "metadata": {},
   "source": [
    "#### Write a program that asks the user for the radius of a circle, then prints out the radius, circumference and area of that circle. Thus the input/output on your screen should look like this:"
   ]
  },
  {
   "cell_type": "markdown",
   "id": "217f84a1",
   "metadata": {},
   "source": [
    "Enter the radius of a circle r = 3.5\n",
    "\n",
    "The circle of radius 3.5 has circumference 22.0 and area 38.5"
   ]
  },
  {
   "cell_type": "markdown",
   "id": "5b19bffc",
   "metadata": {},
   "source": [
    "#### Try this. You will probably notice that if you use the numbers I have given you, the output on your screen looks a little different from mine - for one, there are probably many more digits after the decimal. How to get it to be just one significant digit after the decimal? Ask the instructor or TA for assistance. An additional 5 points\n",
    "\n",
    "####  In doing this, you probably needed to use the value of π. This could be done by defining it as a floating point variable or a constant. The preferable method though is to use the built-in library value, by using the import function. Try using the following at the beginning of your program:"
   ]
  },
  {
   "cell_type": "markdown",
   "id": "0b45534a",
   "metadata": {},
   "source": [
    "from numpy import pi"
   ]
  },
  {
   "cell_type": "code",
   "execution_count": 10,
   "id": "0de27230",
   "metadata": {},
   "outputs": [
    {
     "name": "stdout",
     "output_type": "stream",
     "text": [
      "Enter the radius of a circle r =3.5\n",
      "The circle of radius 3.5 has circumference 22.0 and area 38.5\n"
     ]
    }
   ],
   "source": [
    "from math import pi\n",
    "r = float(input(\"Enter the radius of a circle r =\"))\n",
    "circum = (2*pi*r)\n",
    "area = (pi * r**2)\n",
    "\n",
    "print(f\"The circle of radius {r} has circumference {circum:.1f} and area {area:.1f}\")"
   ]
  },
  {
   "cell_type": "markdown",
   "id": "efbde79b",
   "metadata": {},
   "source": [
    "## 3. Calculate a physics equation (10 points)"
   ]
  },
  {
   "cell_type": "markdown",
   "id": "e92e6f90",
   "metadata": {},
   "source": [
    "#### Recall that the distance z that an object falls in time t is"
   ]
  },
  {
   "cell_type": "markdown",
   "id": "3c419606",
   "metadata": {},
   "source": [
    "z = 1/2gt^2"
   ]
  },
  {
   "cell_type": "markdown",
   "id": "4a9fd6f3",
   "metadata": {},
   "source": [
    "#### Write a program that asks for the distance z, then prints out the time t, both with units like so:"
   ]
  },
  {
   "cell_type": "markdown",
   "id": "f70363e5",
   "metadata": {},
   "source": [
    "Enter z (m): 3.5 \n",
    "    \n",
    "t = 0.845154 s"
   ]
  },
  {
   "cell_type": "markdown",
   "id": "2a5d49f7",
   "metadata": {},
   "source": [
    "#### Your program will need to import sqrt from numpy.\n",
    "\n",
    "#### It should contain the value of g with an explanatory comment:\n",
    "\n",
    "g = 9.80 # acceleration of gravity (m/s**2)"
   ]
  },
  {
   "cell_type": "code",
   "execution_count": 14,
   "id": "2c821c0f",
   "metadata": {},
   "outputs": [
    {
     "name": "stdout",
     "output_type": "stream",
     "text": [
      "Enter z (m):3.5\n",
      "t =0.845154s\n"
     ]
    }
   ],
   "source": [
    "from numpy import sqrt \n",
    "\n",
    "z = float(input(\"Enter z (m):\"))\n",
    "t = sqrt((2*z)/g)\n",
    "\n",
    "print (f\"t ={t:.6f}s\")\n",
    "\n",
    "g = 9.80 # acceleration of gravity (m/s**2)\n"
   ]
  },
  {
   "cell_type": "markdown",
   "id": "30d0c9ae",
   "metadata": {},
   "source": [
    "#### 5 points Now print this to the same degree of precision as your value of g."
   ]
  },
  {
   "cell_type": "code",
   "execution_count": 15,
   "id": "fb70b46d",
   "metadata": {},
   "outputs": [
    {
     "name": "stdout",
     "output_type": "stream",
     "text": [
      "Enter z (m):3.5\n",
      "t =0.85s\n"
     ]
    }
   ],
   "source": [
    "from numpy import sqrt \n",
    "\n",
    "z = float(input(\"Enter z (m):\"))\n",
    "t = sqrt((2*z)/g)\n",
    "\n",
    "print (f\"t ={t:.2f}s\")\n",
    "\n",
    "g = 9.80 # acceleration of gravity (m/s**2)\n"
   ]
  },
  {
   "cell_type": "markdown",
   "id": "1e869543",
   "metadata": {},
   "source": [
    "## 4. Another physics equation (15 points)\n",
    "\n",
    "#### The period of a “conical pendulum” is T = 2π􏰀L cos β/g, where β is the angle in radians between the pendulum string and the vertical (Young and Freedman Chap. 3). Write a program to calculate and print T from user input of L and β in degrees. As with the last problem, your program should tell the user what units it wants L and β to be in, and give the units for the answer T . (Note that the cosine function in numpy expects the input in radians.) 5 points Try creating a variant of your program which defines a function to convert angles from degrees to radians, and then uses it in the program."
   ]
  },
  {
   "cell_type": "code",
   "execution_count": 32,
   "id": "f9c8616a",
   "metadata": {},
   "outputs": [
    {
     "name": "stdout",
     "output_type": "stream",
     "text": [
      "Enter L (m):2\n",
      "Enter beta (deg):45\n",
      "The period of a “conical pendulum” is  2.39\n"
     ]
    }
   ],
   "source": [
    "from numpy import sqrt \n",
    "from math import radians\n",
    "from numpy import pi\n",
    "from numpy import cos\n",
    "\n",
    "L = float(input(\"Enter L (m):\"))\n",
    "beta = float(input(\"Enter beta (deg):\"))\n",
    "beta = radians(beta)\n",
    "g = 9.80\n",
    "T = 2*pi*(sqrt(L* (cos(beta)/g)))\n",
    "\n",
    "\n",
    "print(f\"The period of a “conical pendulum” is  {T:.2f}\")"
   ]
  },
  {
   "cell_type": "markdown",
   "id": "6082c20d",
   "metadata": {},
   "source": [
    "## 5. Defining a function: The factorial function revisited (15 points)"
   ]
  },
  {
   "cell_type": "markdown",
   "id": "21f10d3f",
   "metadata": {},
   "source": [
    "#### Design a program that asks for a number and calculates its factorial. The variation here is that if you enter a float, or a negative number, you print a statement saying “Please enter a positive integer”.\n",
    "\n",
    "#### An optional extension: 5 points if you get a negative number or a float, go back and ask for a new input."
   ]
  },
  {
   "cell_type": "code",
   "execution_count": 33,
   "id": "954049e9",
   "metadata": {},
   "outputs": [
    {
     "name": "stdout",
     "output_type": "stream",
     "text": [
      "Enter a postive number5.6\n",
      "Please enter a positive integer7.2\n",
      "Please enter a positive integer-3\n",
      "Please enter a positive integer3\n",
      "The factorial of 3 is 6\n"
     ]
    }
   ],
   "source": [
    "num= float(input(\"Enter a postive number\"))\n",
    "factorial=1 \n",
    "while num < 0 or num.is_integer()== False:\n",
    "    num= float(input(\"Please enter a positive integer\"))\n",
    "if num == 0:\n",
    "    print(\"The factorial of 0 is 1\")\n",
    "else:\n",
    "    num =int(num)\n",
    "    for i in range(1,num + 1):\n",
    "        factorial = factorial*i\n",
    "    print(\"The factorial of\",num,\"is\",factorial)"
   ]
  },
  {
   "cell_type": "markdown",
   "id": "b55a94cc",
   "metadata": {},
   "source": [
    "## 6. Leap years, roughly speaking (10 points) \n",
    "#### Leap years arrive every four years, thus are divisible by 4. Write a program that asks for a year, and then prints whether or not it is a leap year:\n",
    "\n",
    "  year? 1984\n",
    "  \n",
    "  leap year\n",
    "  \n",
    "  \n",
    "  \n",
    "  year? 1985\n",
    "  \n",
    "  not a leap year\n",
    "#### Your program will need to use the % operator that gives the remainder when integers are divided."
   ]
  },
  {
   "cell_type": "code",
   "execution_count": 35,
   "id": "9c752069",
   "metadata": {},
   "outputs": [
    {
     "name": "stdout",
     "output_type": "stream",
     "text": [
      "Enter an year200\n",
      "200 is a leap year\n"
     ]
    }
   ],
   "source": [
    "year = int(input(\"Enter an year\"))\n",
    "if (year % 4) == 0:\n",
    "    print(f\"{year} is a leap year\")\n",
    "else:\n",
    "   print(f\"{year} is not a leap year\")"
   ]
  },
  {
   "cell_type": "markdown",
   "id": "4e4e37d9",
   "metadata": {},
   "source": [
    "## 7. Leap years, precisely. (20 points)\n",
    "#### The precise definition of a leap year is one that is divisible by 4, except for years divisible by 100 like 1300. However years that are divisible by 400 like 1600 are leap years (a committee appointed by Pope Gregory came up with this in 1582 - the Gregorian calendar was designed to keep the vernal equinox on or close to March 21). Modify your program so it carries out this more precise determination of leap years."
   ]
  },
  {
   "cell_type": "code",
   "execution_count": 36,
   "id": "c0e78459",
   "metadata": {},
   "outputs": [
    {
     "name": "stdout",
     "output_type": "stream",
     "text": [
      "Enter an year300\n",
      "300 is not a leap year\n"
     ]
    }
   ],
   "source": [
    "year = int(input(\"Enter an year\"))\n",
    "\n",
    "if (year % 4) == 0:\n",
    "   if (year % 100) == 0:\n",
    "       if (year % 400) == 0:\n",
    "           print(f\"{year} is a leap year\")\n",
    "       else:\n",
    "           print(f\"{year} is not a leap year\")\n",
    "   else:\n",
    "       print(f\"{year} is not a leap year\")\n",
    "else:\n",
    "   print(f\"{year} is not a leap year\")"
   ]
  },
  {
   "cell_type": "markdown",
   "id": "31fe90ce",
   "metadata": {},
   "source": [
    "## 8. Using functions from scipy.special. 15 points \n",
    "\n",
    "#### In physics sometimes you need “special functions” like Bessel functions, Airy Functions, elliptic integrals, etc. For example, for an ellipse with semi-major axis (distance from center to furthest point on circumference) a and semi-minor axis b, the circumference is C = 4aE(e) where e = 􏰀1 − b2/a2 and E(e) is the “complete elliptic integral of the second kind” (you can find this formula in the Wikipedia article Ellipse.) Write a Python program to compute the circumference given user input of a and b. Check that your program gives the correct answer for two limiting cases, where you know what the circumferance should be: (i) A circle (a = b) and (ii) an extremely eccentric ellipse (a ≫ b) which is essentially made of straight lines. You can find the Python function for E(e) in scipy.special. A link to the documentation for scipy.special is in the class handout “Good programming style.”"
   ]
  },
  {
   "cell_type": "code",
   "execution_count": 37,
   "id": "76b685e3",
   "metadata": {},
   "outputs": [
    {
     "name": "stdout",
     "output_type": "stream",
     "text": [
      "Enter a (m):2000\n",
      "Enter b (m):3\n",
      "It checks out as a an extremely eccentric ellipse\n",
      "The circumference is 8000.034808243441\n"
     ]
    }
   ],
   "source": [
    "from numpy import sqrt \n",
    "from numpy import cos\n",
    "from numpy import pi\n",
    "from scipy.special import ellipe\n",
    "\n",
    "a = float(input(\"Enter a (m):\"))\n",
    "b = float(input(\"Enter b (m):\"))\n",
    "e = sqrt(1-(b**2)/(a**2))\n",
    "C = 4*a*ellipe(e)\n",
    "\n",
    "if (a==b):\n",
    "    circum = 2*pi*a\n",
    "    if (circum == C):\n",
    "        print(\"It checks out as a circle\")\n",
    "elif( a>= b):\n",
    "    print(\"It checks out as a an extremely eccentric ellipse\")\n",
    "print(f\"The circumference is {C}\")"
   ]
  },
  {
   "cell_type": "markdown",
   "id": "7724cb77",
   "metadata": {},
   "source": [
    "## 9. Find the limits of values for floats and ints. (15 points) \n",
    "\n",
    "#### Find (approximately) the largest and smallest number that a Python float can represent. For example, you can write a program that gets a float x from the user, then prints out x and x2 (or more powers if you like). See what happens as you make x very small (e.g 10−100 or less) or very large. Is there a largest integer Python can represent? Try printing a large integer raised to a large power."
   ]
  },
  {
   "cell_type": "code",
   "execution_count": 39,
   "id": "d3025086",
   "metadata": {},
   "outputs": [
    {
     "name": "stdout",
     "output_type": "stream",
     "text": [
      "Enter a number:2\n",
      "2.5\n",
      "6.223015277861142e+39\n",
      "4.6914338109381244e+256\n",
      "1.6069380442589903e-40\n",
      "0.0\n",
      "10000000000000000000000000000000000000000000000000000000000000000000000000000000000000000000000000000000000000000000000000000000000000000000000000000000000000000000000000000000000000000000000000000000000000000000000000000000000000000000000000000000000000000000000000000000000000000000000000000000000000000000000000000000000000000000000000000000000000000000000000000000000000000000000000000000000000000000000000000000000000000000000000000000000000000000000000000000000000000000000000000000000000000000000000000000000000000000000000000000000000000000000000000000000000000000000000000000000000000000000000000000000000000000000000000000000000000000000000000000000000000000000000000000000000000000000000000000000000000000000000000000000000000000000000000000000000000000000000000000000000000000000000000000000000000000000000000000000000000000000000000000000000000000000000000000000000000000000000000000000000000000000000000000000000000000000000000000000000000000000000000000000000000000000000000000000000000\n"
     ]
    }
   ],
   "source": [
    "num = float(input(\"Enter a number:\"))\n",
    "print(x)\n",
    "print(x**100)\n",
    "print(x**645)\n",
    "print(x**-100)\n",
    "print(x**-1000)\n",
    "\n",
    "print(10**1000)"
   ]
  },
  {
   "cell_type": "markdown",
   "id": "32b430ea",
   "metadata": {},
   "source": [
    "## 10. Find the precision of floats. (15 points)\n",
    "\n",
    "#### Write a program that gets a float x and another float ε from the user and prints out the two numbers x and x + εx. Run this program for very small ε’s e.g. 10−10 or smaller. See how small you can make ε before the two results are the same."
   ]
  },
  {
   "cell_type": "code",
   "execution_count": 40,
   "id": "fc67c9f6",
   "metadata": {},
   "outputs": [
    {
     "name": "stdout",
     "output_type": "stream",
     "text": [
      "Enter a number:2.5\n",
      "Enter another number:10e-1000\n",
      "2.5\n"
     ]
    }
   ],
   "source": [
    "x = float(input(\"Enter a number:\"))\n",
    "e = float(input(\"Enter another number:\"))\n",
    "print(x + e*x)"
   ]
  },
  {
   "cell_type": "code",
   "execution_count": null,
   "id": "f82b1407",
   "metadata": {},
   "outputs": [],
   "source": []
  }
 ],
 "metadata": {
  "kernelspec": {
   "display_name": "Python 3",
   "language": "python",
   "name": "python3"
  },
  "language_info": {
   "codemirror_mode": {
    "name": "ipython",
    "version": 3
   },
   "file_extension": ".py",
   "mimetype": "text/x-python",
   "name": "python",
   "nbconvert_exporter": "python",
   "pygments_lexer": "ipython3",
   "version": "3.8.8"
  }
 },
 "nbformat": 4,
 "nbformat_minor": 5
}
