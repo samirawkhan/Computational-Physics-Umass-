{
 "cells": [
  {
   "cell_type": "markdown",
   "id": "1ca208f7",
   "metadata": {},
   "source": [
    "## Exercise 2\n",
    "\n",
    "\n",
    "### Samira Khan "
   ]
  },
  {
   "cell_type": "markdown",
   "id": "5e81f578",
   "metadata": {},
   "source": [
    "### 1. Complex arithmetic and trig functions."
   ]
  },
  {
   "cell_type": "code",
   "execution_count": 128,
   "id": "416ece3b",
   "metadata": {},
   "outputs": [
    {
     "name": "stdout",
     "output_type": "stream",
     "text": [
      "This is the first part (0.5403023058681398+0.8414709848078965j)\n",
      "This is the second part (0.5403023058681398+0.8414709848078965j)\n",
      "True\n",
      "This is the first part (0.5403023058681398+0.8414709848078965j)\n",
      "This is the second part (0.5403023058681398+0.8414709848078965j)\n",
      "True\n",
      "This is the first part (0.5403023058681398+0.8414709848078965j)\n",
      "This is the second part (0.5403023058681398+0.8414709848078965j)\n",
      "True\n",
      "This is the first part (0.5403023058681398+0.8414709848078965j)\n",
      "This is the second part (0.5403023058681398+0.8414709848078965j)\n",
      "True\n",
      "Enter a number4\n",
      "Enter a number4\n",
      "This is the first part (-0.011971900521662592-0.013861321214152959j)\n",
      "This is the second part (-0.01197190052166519-0.013861321214154287j)\n",
      "False\n"
     ]
    }
   ],
   "source": [
    "from numpy import cos,sin,pi,exp\n",
    "alpha = 1\n",
    "for n in range (0,4):\n",
    "    aplha = n*(pi/2)\n",
    "    firstpart = exp(alpha*1j)\n",
    "    secondpart = cos(alpha) + sin(alpha)*1j\n",
    "    print(f\"This is the first part {firstpart}\")\n",
    "    print(f\"This is the second part {secondpart}\")\n",
    "    print( firstpart == secondpart )\n",
    "\n",
    "\n",
    "x = int(input(\"Enter a number\"))\n",
    "y = int(input(\"Enter a number\"))\n",
    "z = x + y *1j\n",
    "\n",
    "firstpart = exp(z*1j)\n",
    "secondpart = cos(z) + sin(z)*1j\n",
    "print(f\"This is the first part {firstpart}\")\n",
    "print(f\"This is the second part {secondpart}\")\n",
    "print( firstpart == secondpart )"
   ]
  },
  {
   "cell_type": "markdown",
   "id": "9f894f1f",
   "metadata": {},
   "source": [
    "### 2. Newman Exercise 2.2: Altitude of a satellite\n",
    "###### Part (a) 5 points "
   ]
  },
  {
   "cell_type": "markdown",
   "id": "5d8a7dfd",
   "metadata": {},
   "source": [
    "\n",
    "$G = 6.67 × 10^{−11} m^3kg^{−1}s^{-2}$ is Newton’s gravitational constant,\n",
    "\n",
    "$M = 5.97 × 10^{24} kg$ is the mass of the Earth,\n",
    "\n",
    "$R = 6371 km$ is its radius.\n",
    "\n",
    "$$ F = \\frac{GMm}{r^2} $$\n",
    "Is for the gravitaional force \n",
    "$$F = ma$$\n",
    "Is for the circular motion\n",
    "\n",
    "$$\n",
    "\\begin{gather*}\n",
    "\\frac{GMm}{r^2} = ma \\\\\n",
    "\\Rightarrow \\frac{GMm}{r^2} = m\\frac{v^2}{r}\\\\\n",
    "\\Rightarrow \\frac{GM}{r} = {v^2}\\\\\n",
    "\\Rightarrow GM = v^2r\n",
    "\\end{gather*}\n",
    "$$\n",
    "\n",
    "Because the orbital speed $v=\\frac{2\\pi r}{T}$\n",
    "\n",
    "$$\n",
    "\\begin{gather*}\n",
    "\\Rightarrow GM = r(\\frac{2\\pi r}{T})^2\\\\\n",
    "\\Rightarrow \\frac{GMT^2}{4\\pi^2}= r^3\\\\\n",
    "\\Rightarrow r = {(\\frac{GMT^2}{4\\pi^2})}^{1/3}\\\\\n",
    "\\end{gather*}\n",
    "$$\n",
    "\n",
    "r = radius of the satellite from the center of the Earth\n",
    "R = earth radius\n",
    "h = height of the satellite from the surface of the earth\n",
    "\n",
    "$$\n",
    "r = R+h \\\\\n",
    "\\Rightarrow h= r-R\\\\\n",
    "\\Rightarrow  r= {(\\frac{GMT^2}{4\\pi^2})}^{1/3} -R\n",
    "$$\n",
    "\n"
   ]
  },
  {
   "cell_type": "markdown",
   "id": "08c9cca2",
   "metadata": {},
   "source": [
    "###### Part (b) 10 point "
   ]
  },
  {
   "cell_type": "code",
   "execution_count": 129,
   "id": "2e3cfe72",
   "metadata": {},
   "outputs": [
    {
     "name": "stdout",
     "output_type": "stream",
     "text": [
      "Enter a time3\n",
      "Error: Period not allowed\n",
      "-6162393.591562583\n",
      "Enter another time10000\n",
      "The altitude for this specific time is 40178334.46876863m\n"
     ]
    }
   ],
   "source": [
    "from numpy import cos,sin,pi,exp\n",
    "G = 6.67 * 10e-11\n",
    "M = 5.97 * 10e24\n",
    "R = 6371* 10**3\n",
    "T = float(input(\"Enter a time\"))\n",
    "h = -1\n",
    "while h<0:\n",
    "    h = (((G*M*(T**2))/(4*(pi**2)))**(1/3)) - R\n",
    "    if h<0:\n",
    "        print(\"Error: Period not allowed\")\n",
    "        print(h)\n",
    "        T = float(input(\"Enter another time\"))\n",
    "    else:\n",
    "        print(f\"The altitude for this specific time is {h}m\")"
   ]
  },
  {
   "cell_type": "markdown",
   "id": "d726a40e",
   "metadata": {},
   "source": [
    "### 3. Using the while statement. 10 points"
   ]
  },
  {
   "cell_type": "code",
   "execution_count": 130,
   "id": "6fff2b88",
   "metadata": {},
   "outputs": [
    {
     "name": "stdout",
     "output_type": "stream",
     "text": [
      "The smallest sum of n**3 greater than 1000 is 1296 where N = 8\n"
     ]
    }
   ],
   "source": [
    "s = 1000\n",
    "n = 0\n",
    "Sum = 0\n",
    "S = 0\n",
    "while (S>Sum or S==0):\n",
    "    for n in range (0,s):\n",
    "        #print(n,N,Sum,S)\n",
    "        Sum += n**3\n",
    "        #print(Sum)\n",
    "        if (S<=s):\n",
    "            S = Sum\n",
    "            N=n\n",
    "print(f\"The smallest sum of n**3 greater than {s} is {S} where N = {N}\")"
   ]
  },
  {
   "cell_type": "markdown",
   "id": "03e59547",
   "metadata": {},
   "source": [
    "### 4. Repeating a calculation until the user is done. 5 points"
   ]
  },
  {
   "cell_type": "code",
   "execution_count": 131,
   "id": "33503f65",
   "metadata": {},
   "outputs": [
    {
     "name": "stdout",
     "output_type": "stream",
     "text": [
      "Enter s (<0 to stop)4\n",
      "The smallest sum of n**3 greater than 4 is 9 where N = 2\n",
      "Enter s (<0 to stop)3\n",
      "The smallest sum of n**3 greater than 3 is 9 where N = 2\n",
      "Enter s (<0 to stop)100\n",
      "The smallest sum of n**3 greater than 100 is 225 where N = 5\n",
      "Enter s (<0 to stop)-1\n"
     ]
    }
   ],
   "source": [
    "s = 0\n",
    "while (s>=0):\n",
    "    n = 0\n",
    "    Sum = 0\n",
    "    S = 0\n",
    "    s = (int(input(\"Enter s (<0 to stop)\")))\n",
    "    if (s>0):\n",
    "        while (S>Sum or S==0):\n",
    "            for n in range (0,s):\n",
    "                #print(n,N,Sum,S)\n",
    "                Sum += n**3\n",
    "                #print(Sum)\n",
    "                if (S<=s):\n",
    "                    S = Sum\n",
    "                    N=n\n",
    "                    #print(S)\n",
    "                    #print(N)\n",
    "        print(f\"The smallest sum of n**3 greater than {s} is {S} where N = {N}\")"
   ]
  },
  {
   "cell_type": "markdown",
   "id": "f1ed4032",
   "metadata": {},
   "source": [
    "### 5. Newman Exercise 2.7: Catalan numbers. 10 points"
   ]
  },
  {
   "cell_type": "code",
   "execution_count": 132,
   "id": "20576bd1",
   "metadata": {},
   "outputs": [
    {
     "name": "stdout",
     "output_type": "stream",
     "text": [
      "1\n",
      "1.0\n",
      "2.0\n",
      "5.0\n",
      "14.0\n",
      "42.0\n",
      "132.0\n",
      "429.0\n",
      "1430.0\n",
      "4862.0\n",
      "16796.0\n",
      "58786.0\n",
      "208012.0\n",
      "742900.0\n",
      "2674440.0\n",
      "9694845.0\n",
      "35357670.0\n",
      "129644790.0\n",
      "477638700.0\n"
     ]
    }
   ],
   "source": [
    "n = 0 \n",
    "C = 1 \n",
    "while (C<10**9):\n",
    "        print(C)\n",
    "        C = (((4*n)+2)/(n+2))* C\n",
    "        n += 1"
   ]
  },
  {
   "cell_type": "markdown",
   "id": "6ab485c9",
   "metadata": {},
   "source": [
    "### 6. Building lists. 5 points"
   ]
  },
  {
   "cell_type": "code",
   "execution_count": 133,
   "id": "00617490",
   "metadata": {},
   "outputs": [
    {
     "name": "stdout",
     "output_type": "stream",
     "text": [
      "Enter reading(<0 to stop):33\n",
      "Enter reading(<0 to stop):-1\n",
      "Reading:[33.0]\n"
     ]
    }
   ],
   "source": [
    "time = 1\n",
    "read = []\n",
    "while (time>0):\n",
    "    time= float(input(\"Enter reading(<0 to stop):\"))\n",
    "    if (time>0):\n",
    "        read.append(time)\n",
    "print(f\"Reading:{read}\")"
   ]
  },
  {
   "cell_type": "markdown",
   "id": "0e3f3905",
   "metadata": {},
   "source": [
    "### 7. Calculating list statistics. 10 points "
   ]
  },
  {
   "cell_type": "code",
   "execution_count": 134,
   "id": "23d02a76",
   "metadata": {},
   "outputs": [
    {
     "name": "stdout",
     "output_type": "stream",
     "text": [
      "Enter reading(<0 to stop):33\n",
      "Enter reading(<0 to stop):4\n",
      "Enter reading(<0 to stop):6\n",
      "Enter reading(<0 to stop):7\n",
      "Enter reading(<0 to stop):-1\n",
      "Reading:[33.0, 4.0, 6.0, 7.0]\n",
      "Number of readings:4\n",
      "Average reading:12.500\n",
      "Smallest reading:4.000\n",
      "Largest reading:33.000\n"
     ]
    }
   ],
   "source": [
    "time = 1\n",
    "read = []\n",
    "while (time>0):\n",
    "    time= float(input(\"Enter reading(<0 to stop):\"))\n",
    "    if (time>0):\n",
    "        read.append(time)\n",
    "total= len(read) \n",
    "avg = sum(read)/ total \n",
    "small = min(read)\n",
    "large = max(read)\n",
    "print(f\"Reading:{read}\")\n",
    "print(f\"Number of readings:{total}\")\n",
    "print(f\"Average reading:{avg:.3f}\")\n",
    "print(f\"Smallest reading:{small:.3f}\")\n",
    "print(f\"Largest reading:{large:.3f}\")\n"
   ]
  },
  {
   "cell_type": "markdown",
   "id": "361f4925",
   "metadata": {},
   "source": [
    "### 8. More statistics 10 points "
   ]
  },
  {
   "cell_type": "code",
   "execution_count": 135,
   "id": "da056bc3",
   "metadata": {},
   "outputs": [
    {
     "name": "stdout",
     "output_type": "stream",
     "text": [
      "The standard deviation :11.884864324004713\n"
     ]
    }
   ],
   "source": [
    "from numpy import sqrt\n",
    "import statistics\n",
    "firstpart = []\n",
    "for x in read:\n",
    "    firstpart.append(x**2)\n",
    "avg2 = sum(firstpart)/total\n",
    "stdv = sqrt(avg2-(avg**2))\n",
    "print(f\"The standard deviation :{stdv}\")"
   ]
  },
  {
   "cell_type": "markdown",
   "id": "8c299a14",
   "metadata": {},
   "source": [
    "### 9. Using list comprehensions. 15 points"
   ]
  },
  {
   "cell_type": "code",
   "execution_count": 136,
   "id": "031019d5",
   "metadata": {
    "scrolled": true
   },
   "outputs": [
    {
     "name": "stdout",
     "output_type": "stream",
     "text": [
      "[0, 1, 2, 3, 4, 5, 6, 7, 8, 9, 10, 11, 12, 13, 14, 15, 16, 17, 18, 19, 20]\n",
      "[1, 2, 3, 4, 6, 7, 8, 9, 11, 12, 13, 14, 16, 17, 18, 19]\n",
      "[0, 5, 10, 15, 20]\n",
      "[13, 17, 19, 23, 27, 29, 33, 37, 39]\n"
     ]
    }
   ],
   "source": [
    "firstpart = []\n",
    "secondpart = []\n",
    "thirdpart = []\n",
    "for x in range (0,21):\n",
    "    firstpart.append(x)\n",
    "for x in firstpart:\n",
    "    if (x % 5 != 0):\n",
    "        secondpart.append(x)\n",
    "    else:\n",
    "        thirdpart.append(x)\n",
    "a= [10,20,30]\n",
    "b =[3,7,9]\n",
    "new =[]\n",
    "for x in a:\n",
    "    for y in b:\n",
    "        new.append(x+y)\n",
    "print(firstpart)\n",
    "print(secondpart)\n",
    "print(thirdpart)\n",
    "print(new)"
   ]
  },
  {
   "cell_type": "markdown",
   "id": "0ca27780",
   "metadata": {},
   "source": [
    "### 10. Practice with range(). 10 points"
   ]
  },
  {
   "cell_type": "code",
   "execution_count": 137,
   "id": "40d78ff7",
   "metadata": {},
   "outputs": [
    {
     "name": "stdout",
     "output_type": "stream",
     "text": [
      "[0, 1, 2, 3, 4, 5, 6, 7, 8, 9, 10]\n",
      "[1, 2, 3, 4, 5, 6, 7, 8, 9, 10]\n",
      "[3, 6, 9, 12, 15, 18, 21, 24, 27]\n",
      "[50, 40, 30, 20, 10]\n"
     ]
    }
   ],
   "source": [
    "firstpart = []\n",
    "secondpart = []\n",
    "thirdpart = []\n",
    "fourthpart = []\n",
    "fifthpart = []\n",
    "for x in range (0,11):\n",
    "    firstpart.append(x)\n",
    "for x in range (1,11):\n",
    "    secondpart.append(x)\n",
    "for x in range (1,28):\n",
    "    if(x % 3 == 0):\n",
    "        thirdpart.append(x)\n",
    "for x in range (1,51):\n",
    "    if (x % 10 ==0):\n",
    "        fourthpart.append(x)\n",
    "\n",
    "while (len(fourthpart)!=0):\n",
    "    fifthpart.append(fourthpart.pop())\n",
    "    \n",
    "print(firstpart)\n",
    "print(secondpart)\n",
    "print(thirdpart)\n",
    "\n",
    "print(fifthpart)"
   ]
  },
  {
   "cell_type": "markdown",
   "id": "56d2479e",
   "metadata": {},
   "source": [
    "### 11. Nested for statements: atomic orbitals. 10 points"
   ]
  },
  {
   "cell_type": "code",
   "execution_count": 138,
   "id": "a7fdaed3",
   "metadata": {},
   "outputs": [
    {
     "name": "stdout",
     "output_type": "stream",
     "text": [
      " n_max?3\n",
      "n = 1  l = 0  m = 0\n",
      " Total states with n = 1: 1\n",
      "n = 2  l = 0  m = 0\n",
      "n = 2  l = 1  m = -1\n",
      "n = 2  l = 1  m = 0\n",
      "n = 2  l = 1  m = 1\n",
      " Total states with n = 2: 4\n",
      "n = 3  l = 0  m = 0\n",
      "n = 3  l = 1  m = -1\n",
      "n = 3  l = 1  m = 0\n",
      "n = 3  l = 1  m = 1\n",
      "n = 3  l = 2  m = -2\n",
      "n = 3  l = 2  m = -1\n",
      "n = 3  l = 2  m = 0\n",
      "n = 3  l = 2  m = 1\n",
      "n = 3  l = 2  m = 2\n",
      " Total states with n = 3: 9\n"
     ]
    }
   ],
   "source": [
    "n_max = int(input(\" n_max?\"))\n",
    "for n in range(1,n_max+1):\n",
    "    a = 0\n",
    "    for l in range (0,n):\n",
    "        for m in range (-l,l+1):\n",
    "            print(f\"n = {n}  l = {l}  m = {m}\")\n",
    "            a+=1\n",
    "            \n",
    "    print(f\" Total states with n = {n}: {a}\")"
   ]
  },
  {
   "cell_type": "markdown",
   "id": "4ea872c4",
   "metadata": {},
   "source": [
    "### 12. 15 points "
   ]
  },
  {
   "cell_type": "code",
   "execution_count": 139,
   "id": "796871b5",
   "metadata": {},
   "outputs": [
    {
     "name": "stdout",
     "output_type": "stream",
     "text": [
      "Enter the n value 55\n",
      "Enter the k value 56\n",
      "The number n must be larger than or equal to k\n",
      "None\n"
     ]
    }
   ],
   "source": [
    "def fac(a):\n",
    "    fac = 1\n",
    "    for r in range (1,a+1):\n",
    "        fac *= r\n",
    "    return fac\n",
    "def binomial(n,k):\n",
    "    binomial = 0\n",
    "    if k<0:\n",
    "        return (print(\"The number k must be larger than or equal to zero\"))\n",
    "    elif k>n:\n",
    "        return (print(\"The number n must be larger than or equal to k\"))\n",
    "    elif k==0 or k==n:\n",
    "        binomial = 1\n",
    "        return (print(f\"The binomial coefficient is: {binomial}\"))\n",
    "    else:\n",
    "        binomial = fac(n)/ (fac(k)*fac(n-k))\n",
    "        return (print(f\"The binomial coefficient is: {binomial}\"))\n",
    "\n",
    "n = int(input(\"Enter the n value \"))\n",
    "k = int(input(\"Enter the k value \"))\n",
    "print(binomial(n,k))"
   ]
  },
  {
   "cell_type": "code",
   "execution_count": null,
   "id": "deb49482",
   "metadata": {},
   "outputs": [],
   "source": []
  }
 ],
 "metadata": {
  "kernelspec": {
   "display_name": "Python 3",
   "language": "python",
   "name": "python3"
  },
  "language_info": {
   "codemirror_mode": {
    "name": "ipython",
    "version": 3
   },
   "file_extension": ".py",
   "mimetype": "text/x-python",
   "name": "python",
   "nbconvert_exporter": "python",
   "pygments_lexer": "ipython3",
   "version": "3.8.8"
  }
 },
 "nbformat": 4,
 "nbformat_minor": 5
}
