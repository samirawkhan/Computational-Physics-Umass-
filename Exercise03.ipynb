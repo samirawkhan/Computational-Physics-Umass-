{
 "cells": [
  {
   "cell_type": "markdown",
   "id": "4b8250c9",
   "metadata": {},
   "source": [
    "## Exercise 3\n",
    "\n",
    "\n",
    "### Samira Khan "
   ]
  },
  {
   "cell_type": "markdown",
   "id": "e3331bc4",
   "metadata": {},
   "source": [
    "### 1.Creating numpy arrays (Newmann Sec. 2.4.2).10 points "
   ]
  },
  {
   "cell_type": "code",
   "execution_count": 10,
   "id": "558ec2d3",
   "metadata": {},
   "outputs": [
    {
     "name": "stdout",
     "output_type": "stream",
     "text": [
      "row?12\n",
      "cols?6\n",
      "List of lists: [[1.0, 2.0, 3.0, 4.0, 5.0, 6.0], [7.0, 8.0, 9.0, 10.0, 11.0, 12.0], [13.0, 14.0, 15.0, 16.0, 17.0, 18.0], [19.0, 20.0, 21.0, 22.0, 23.0, 24.0], [25.0, 26.0, 27.0, 28.0, 29.0, 30.0], [31.0, 32.0, 33.0, 34.0, 35.0, 36.0], [37.0, 38.0, 39.0, 40.0, 41.0, 42.0], [43.0, 44.0, 45.0, 46.0, 47.0, 48.0], [49.0, 50.0, 51.0, 52.0, 53.0, 54.0], [55.0, 56.0, 57.0, 58.0, 59.0, 60.0], [61.0, 62.0, 63.0, 64.0, 65.0, 66.0], [67.0, 68.0, 69.0, 70.0, 71.0, 72.0]]\n",
      "Array:\n",
      " [[ 1.  2.  3.  4.  5.  6.]\n",
      " [ 7.  8.  9. 10. 11. 12.]\n",
      " [13. 14. 15. 16. 17. 18.]\n",
      " [19. 20. 21. 22. 23. 24.]\n",
      " [25. 26. 27. 28. 29. 30.]\n",
      " [31. 32. 33. 34. 35. 36.]\n",
      " [37. 38. 39. 40. 41. 42.]\n",
      " [43. 44. 45. 46. 47. 48.]\n",
      " [49. 50. 51. 52. 53. 54.]\n",
      " [55. 56. 57. 58. 59. 60.]\n",
      " [61. 62. 63. 64. 65. 66.]\n",
      " [67. 68. 69. 70. 71. 72.]]\n"
     ]
    }
   ],
   "source": [
    "import numpy as np\n",
    "row = int(input(\"row?\"))\n",
    "cols = int(input(\"cols?\"))\n",
    "a = np.zeros((row, cols))\n",
    "counter = 1\n",
    "for i in range(0, row):\n",
    "    for j in range(0, cols):\n",
    "        a[i][j] = counter\n",
    "        counter = counter + 1\n",
    "\n",
    "\n",
    "list_of_lists = a.tolist()\n",
    "print (\"List of lists:\",list_of_lists)\n",
    "print(\"Array:\\n\",a)"
   ]
  },
  {
   "cell_type": "markdown",
   "id": "ba25c743",
   "metadata": {},
   "source": [
    "## 2. Array slicing (Newman Sec 2.4.5). 10 points"
   ]
  },
  {
   "cell_type": "code",
   "execution_count": 12,
   "id": "e427a019",
   "metadata": {
    "scrolled": true
   },
   "outputs": [
    {
     "name": "stdout",
     "output_type": "stream",
     "text": [
      "row?12\n",
      "cols?6\n",
      "Array:\n",
      " [[ 1.  2.  3.  4.  5.  6.]\n",
      " [ 7.  8.  9. 10. 11. 12.]\n",
      " [13. 14. 15. 16. 17. 18.]\n",
      " [19. 20. 21. 22. 23. 24.]\n",
      " [25. 26. 27. 28. 29. 30.]\n",
      " [31. 32. 33. 34. 35. 36.]\n",
      " [37. 38. 39. 40. 41. 42.]\n",
      " [43. 44. 45. 46. 47. 48.]\n",
      " [49. 50. 51. 52. 53. 54.]\n",
      " [55. 56. 57. 58. 59. 60.]\n",
      " [61. 62. 63. 64. 65. 66.]\n",
      " [67. 68. 69. 70. 71. 72.]]\n",
      "Second Row: \n",
      "[[ 7.  8.  9. 10. 11. 12.]]\n",
      "Third column:\n",
      "[ 3.  9. 15. 21. 27. 33. 39. 45. 51. 57. 63. 69.]\n",
      "Upper Left:\n",
      "[[ 1.  2.  3.]\n",
      " [ 7.  8.  9.]\n",
      " [13. 14. 15.]]\n",
      "Upper Right\n",
      "[[ 4.  5.  6.]\n",
      " [10. 11. 12.]\n",
      " [16. 17. 18.]]\n",
      "Transpose:\n",
      "[[ 1.  7. 13. 19. 25. 31. 37. 43. 49. 55. 61. 67.]\n",
      " [ 2.  8. 14. 20. 26. 32. 38. 44. 50. 56. 62. 68.]\n",
      " [ 3.  9. 15. 21. 27. 33. 39. 45. 51. 57. 63. 69.]\n",
      " [ 4. 10. 16. 22. 28. 34. 40. 46. 52. 58. 64. 70.]\n",
      " [ 5. 11. 17. 23. 29. 35. 41. 47. 53. 59. 65. 71.]\n",
      " [ 6. 12. 18. 24. 30. 36. 42. 48. 54. 60. 66. 72.]]\n"
     ]
    }
   ],
   "source": [
    "import numpy as np\n",
    "row = int(input(\"row?\"))\n",
    "cols = int(input(\"cols?\"))\n",
    "arr = np.zeros((row, cols))\n",
    "counter = 1\n",
    "for i in range(0, row):\n",
    "    for j in range(0, cols):\n",
    "        arr[i][j] = counter\n",
    "        counter = counter + 1\n",
    "\n",
    "print(\"Array:\\n\",arr)\n",
    "\n",
    "print(\"Second Row: \")\n",
    "print(arr[1:2,:])\n",
    "\n",
    "print(\"Third column:\")\n",
    "print(arr[:,2])\n",
    "\n",
    "print(\"Upper Left:\")\n",
    "print(arr[0:3,0:3])\n",
    "\n",
    "print(\"Upper Right\")\n",
    "print(arr[0:3,-3:])\n",
    "\n",
    "print(\"Transpose:\")\n",
    "print(np.transpose(arr))"
   ]
  },
  {
   "cell_type": "markdown",
   "id": "0dd6037d",
   "metadata": {},
   "source": [
    "### 3. Writing an array to a text file"
   ]
  },
  {
   "cell_type": "code",
   "execution_count": 23,
   "id": "eae07d78",
   "metadata": {
    "scrolled": true
   },
   "outputs": [],
   "source": [
    "import numpy as np\n",
    "from math import pi, cos ,sin \n",
    "v = 15\n",
    "angle = pi/4\n",
    "g = 9.80 \n",
    "h = ((v*np.sin(angle))**2)/(2*g)\n",
    "time = (2*h)/(v*np.sin(angle))\n",
    "projectile_motion = []\n",
    "t = 0.0\n",
    "y = 1\n",
    "X = []\n",
    "Y = []\n",
    "while y>=0:\n",
    "    x = v*np.cos(angle)*t \n",
    "    y = ((v*np.sin(angle))*t) -(0.5*g*(t**2))\n",
    "    if y>0:\n",
    "        X.append(x)\n",
    "        Y.append(y)\n",
    "    t += 0.1\n",
    "projectile_motion = np.array(list(zip(X,Y)))\n",
    "a_file = open(\"foo.txt\",\"w\")\n",
    "np.savetxt(a_file,projectile_motion)\n",
    "a_file.close()"
   ]
  },
  {
   "cell_type": "markdown",
   "id": "2b50ca6b",
   "metadata": {},
   "source": [
    "### 4. Simple plots (Newman Sec 3.1). 10 points"
   ]
  },
  {
   "cell_type": "code",
   "execution_count": 25,
   "id": "a18a299e",
   "metadata": {},
   "outputs": [
    {
     "data": {
      "image/png": "[encoded data removed]",
      "text/plain": [
       "<Figure size 432x288 with 1 Axes>"
      ]
     },
     "metadata": {
      "needs_background": "light"
     },
     "output_type": "display_data"
    }
   ],
   "source": [
    "import matplotlib.pyplot as plt \n",
    "plt.plot(X,Y)\n",
    "plt.xlabel(\"X-position\")# label for the x axis\n",
    "plt.ylabel(\"Y-position\")# label for the y axis\n",
    "plt.title(\"Projectile Motion\")\n",
    "\n",
    "plt.show()# this will show the plot"
   ]
  },
  {
   "cell_type": "markdown",
   "id": "3a17089a",
   "metadata": {},
   "source": [
    "### 5. Different file format 5 points"
   ]
  },
  {
   "cell_type": "code",
   "execution_count": 27,
   "id": "8f4af487",
   "metadata": {},
   "outputs": [],
   "source": [
    "np.savetxt('foo.csv', projectile_motion, delimiter=',')"
   ]
  },
  {
   "cell_type": "markdown",
   "id": "3a22a1cd",
   "metadata": {},
   "source": [
    "### 6. Reading a text file into an array (Newman Sec. 2.4.3)"
   ]
  },
  {
   "cell_type": "code",
   "execution_count": 1,
   "id": "82f6cf56",
   "metadata": {},
   "outputs": [
    {
     "ename": "NameError",
     "evalue": "name 'np' is not defined",
     "output_type": "error",
     "traceback": [
      "\u001b[1;31m---------------------------------------------------------------------------\u001b[0m",
      "\u001b[1;31mNameError\u001b[0m                                 Traceback (most recent call last)",
      "\u001b[1;32m<ipython-input-1-de217fc98bc8>\u001b[0m in \u001b[0;36m<module>\u001b[1;34m\u001b[0m\n\u001b[1;32m----> 1\u001b[1;33m \u001b[0mcontent\u001b[0m \u001b[1;33m=\u001b[0m \u001b[0mnp\u001b[0m\u001b[1;33m.\u001b[0m\u001b[0mloadtxt\u001b[0m\u001b[1;33m(\u001b[0m\u001b[1;34m\"foo.txt\"\u001b[0m\u001b[1;33m)\u001b[0m\u001b[1;33m\u001b[0m\u001b[1;33m\u001b[0m\u001b[0m\n\u001b[0m\u001b[0;32m      2\u001b[0m \u001b[0mprint\u001b[0m\u001b[1;33m(\u001b[0m\u001b[0mcontent\u001b[0m\u001b[1;33m)\u001b[0m\u001b[1;33m\u001b[0m\u001b[1;33m\u001b[0m\u001b[0m\n",
      "\u001b[1;31mNameError\u001b[0m: name 'np' is not defined"
     ]
    }
   ],
   "source": [
    "content = np.loadtxt(\"foo.txt\")\n",
    "print(content)"
   ]
  },
  {
   "cell_type": "markdown",
   "id": "77b69f20",
   "metadata": {},
   "source": [
    "### 7. Practice plotting functions"
   ]
  },
  {
   "cell_type": "code",
   "execution_count": 61,
   "id": "c16ccc66",
   "metadata": {},
   "outputs": [
    {
     "name": "stdout",
     "output_type": "stream",
     "text": [
      "[[1.00000000e+00 1.00000000e+00]\n",
      " [1.41665880e+01 3.02015101e+00]\n",
      " [8.82422515e+01 9.08060403e+00]\n",
      " [2.84136066e+02 1.91813591e+01]\n",
      " [6.62757108e+02 3.33224161e+01]\n",
      " [1.28501445e+03 5.15037752e+01]\n",
      " [2.21181717e+03 7.37254362e+01]\n",
      " [3.50407435e+03 9.99873993e+01]\n",
      " [5.22269505e+03 1.30289664e+02]\n",
      " [7.42858836e+03 1.64632232e+02]\n",
      " [1.01826633e+04 2.03015101e+02]\n",
      " [1.35458291e+04 2.45438272e+02]\n",
      " [1.75789947e+04 2.91901745e+02]\n",
      " [2.23430691e+04 3.42405520e+02]\n",
      " [2.78989616e+04 3.96949597e+02]\n",
      " [3.43075811e+04 4.55533976e+02]\n",
      " [4.16298368e+04 5.18158658e+02]\n",
      " [4.99266377e+04 5.84823641e+02]\n",
      " [5.92588928e+04 6.55528926e+02]\n",
      " [6.96875113e+04 7.30274513e+02]\n",
      " [8.12734023e+04 8.09060403e+02]\n",
      " [9.40774747e+04 8.91886594e+02]\n",
      " [1.08160638e+05 9.78753087e+02]\n",
      " [1.23583800e+05 1.06965988e+03]\n",
      " [1.40407872e+05 1.16460698e+03]\n",
      " [1.58693761e+05 1.26359438e+03]\n",
      " [1.78502377e+05 1.36662208e+03]\n",
      " [1.99894629e+05 1.47369008e+03]\n",
      " [2.22931427e+05 1.58479839e+03]\n",
      " [2.47673678e+05 1.69994700e+03]\n",
      " [2.74182292e+05 1.81913591e+03]\n",
      " [3.02518179e+05 1.94236512e+03]\n",
      " [3.32742247e+05 2.06963463e+03]\n",
      " [3.64915406e+05 2.20094445e+03]\n",
      " [3.99098564e+05 2.33629456e+03]\n",
      " [4.35352630e+05 2.47568498e+03]\n",
      " [4.73738514e+05 2.61911570e+03]\n",
      " [5.14317125e+05 2.76658673e+03]\n",
      " [5.57149372e+05 2.91809805e+03]\n",
      " [6.02296164e+05 3.07364968e+03]\n",
      " [6.49818409e+05 3.23324161e+03]\n",
      " [6.99777018e+05 3.39687384e+03]\n",
      " [7.52232898e+05 3.56454638e+03]\n",
      " [8.07246960e+05 3.73625921e+03]\n",
      " [8.64880112e+05 3.91201235e+03]\n",
      " [9.25193264e+05 4.09180579e+03]\n",
      " [9.88247323e+05 4.27563953e+03]\n",
      " [1.05410320e+06 4.46351357e+03]\n",
      " [1.12282180e+06 4.65542792e+03]\n",
      " [1.19446404e+06 4.85138257e+03]\n",
      " [1.26909083e+06 5.05137752e+03]\n",
      " [1.34676307e+06 5.25541277e+03]\n",
      " [1.42754167e+06 5.46348832e+03]\n",
      " [1.51148754e+06 5.67560418e+03]\n",
      " [1.59866159e+06 5.89176033e+03]\n",
      " [1.68912474e+06 6.11195679e+03]\n",
      " [1.78293788e+06 6.33619356e+03]\n",
      " [1.88016193e+06 6.56447062e+03]\n",
      " [1.98085780e+06 6.79678799e+03]\n",
      " [2.08508639e+06 7.03314565e+03]\n",
      " [2.19290862e+06 7.27354362e+03]\n",
      " [2.30438540e+06 7.51798189e+03]\n",
      " [2.41957763e+06 7.76646047e+03]\n",
      " [2.53854622e+06 8.01897934e+03]\n",
      " [2.66135208e+06 8.27553852e+03]\n",
      " [2.78805613e+06 8.53613800e+03]\n",
      " [2.91871926e+06 8.80077778e+03]\n",
      " [3.05340239e+06 9.06945787e+03]\n",
      " [3.19216643e+06 9.34217825e+03]\n",
      " [3.33507229e+06 9.61893894e+03]\n",
      " [3.48218088e+06 9.89973993e+03]\n",
      " [3.63355309e+06 1.01845812e+04]\n",
      " [3.78924986e+06 1.04734628e+04]\n",
      " [3.94933208e+06 1.07663847e+04]\n",
      " [4.11386066e+06 1.10633469e+04]\n",
      " [4.28289651e+06 1.13643494e+04]\n",
      " [4.45650054e+06 1.16693922e+04]\n",
      " [4.63473366e+06 1.19784753e+04]\n",
      " [4.81765678e+06 1.22915987e+04]\n",
      " [5.00533081e+06 1.26087624e+04]\n",
      " [5.19781665e+06 1.29299664e+04]\n",
      " [5.39517523e+06 1.32552108e+04]\n",
      " [5.59746743e+06 1.35844954e+04]\n",
      " [5.80475418e+06 1.39178203e+04]\n",
      " [6.01709639e+06 1.42551855e+04]\n",
      " [6.23455495e+06 1.45965910e+04]\n",
      " [6.45719079e+06 1.49420368e+04]\n",
      " [6.68506481e+06 1.52915230e+04]\n",
      " [6.91823792e+06 1.56450494e+04]\n",
      " [7.15677102e+06 1.60026161e+04]\n",
      " [7.40072504e+06 1.63642232e+04]\n",
      " [7.65016087e+06 1.67298705e+04]\n",
      " [7.90513943e+06 1.70995581e+04]\n",
      " [8.16572162e+06 1.74732861e+04]\n",
      " [8.43196835e+06 1.78510543e+04]\n",
      " [8.70394054e+06 1.82328628e+04]\n",
      " [8.98169909e+06 1.86187117e+04]\n",
      " [9.26530492e+06 1.90086008e+04]\n",
      " [9.55481892e+06 1.94025303e+04]\n",
      " [9.85030201e+06 1.98005000e+04]\n",
      " [1.01518151e+07 2.02025101e+04]\n",
      " [1.04594191e+07 2.06085604e+04]\n",
      " [1.07731749e+07 2.10186511e+04]\n",
      " [1.10931435e+07 2.14327820e+04]\n",
      " [1.14193856e+07 2.18509533e+04]\n",
      " [1.17519624e+07 2.22731648e+04]\n",
      " [1.20909345e+07 2.26994167e+04]\n",
      " [1.24363631e+07 2.31297089e+04]\n",
      " [1.27883089e+07 2.35640413e+04]\n",
      " [1.31468328e+07 2.40024141e+04]\n",
      " [1.35119959e+07 2.44448272e+04]\n",
      " [1.38838590e+07 2.48912805e+04]\n",
      " [1.42624830e+07 2.53417742e+04]\n",
      " [1.46479288e+07 2.57963082e+04]\n",
      " [1.50402573e+07 2.62548825e+04]\n",
      " [1.54395295e+07 2.67174971e+04]\n",
      " [1.58458062e+07 2.71841519e+04]\n",
      " [1.62591483e+07 2.76548471e+04]\n",
      " [1.66796168e+07 2.81295826e+04]\n",
      " [1.71072726e+07 2.86083584e+04]\n",
      " [1.75421766e+07 2.90911745e+04]\n",
      " [1.79843896e+07 2.95780309e+04]\n",
      " [1.84339727e+07 3.00689276e+04]\n",
      " [1.88909866e+07 3.05638646e+04]\n",
      " [1.93554924e+07 3.10628419e+04]\n",
      " [1.98275509e+07 3.15658595e+04]\n",
      " [2.03072231e+07 3.20729174e+04]\n",
      " [2.07945697e+07 3.25840156e+04]\n",
      " [2.12896519e+07 3.30991541e+04]\n",
      " [2.17925304e+07 3.36183329e+04]\n",
      " [2.23032661e+07 3.41415520e+04]\n",
      " [2.28219201e+07 3.46688114e+04]\n",
      " [2.33485531e+07 3.52001111e+04]\n",
      " [2.38832261e+07 3.57354512e+04]\n",
      " [2.44260001e+07 3.62748315e+04]\n",
      " [2.49769358e+07 3.68182521e+04]\n",
      " [2.55360943e+07 3.73657130e+04]\n",
      " [2.61035364e+07 3.79172142e+04]\n",
      " [2.66793231e+07 3.84727558e+04]\n",
      " [2.72635152e+07 3.90323376e+04]\n",
      " [2.78561737e+07 3.95959597e+04]\n",
      " [2.84573594e+07 4.01636222e+04]\n",
      " [2.90671333e+07 4.07353249e+04]\n",
      " [2.96855563e+07 4.13110679e+04]\n",
      " [3.03126894e+07 4.18908513e+04]\n",
      " [3.09485933e+07 4.24746749e+04]\n",
      " [3.15933290e+07 4.30625389e+04]\n",
      " [3.22469575e+07 4.36544431e+04]\n",
      " [3.29095395e+07 4.42503876e+04]\n",
      " [3.35811362e+07 4.48503725e+04]\n",
      " [3.42618083e+07 4.54543976e+04]\n",
      " [3.49516167e+07 4.60624631e+04]\n",
      " [3.56506224e+07 4.66745688e+04]\n",
      " [3.63588863e+07 4.72907149e+04]\n",
      " [3.70764693e+07 4.79109013e+04]\n",
      " [3.78034323e+07 4.85351279e+04]\n",
      " [3.85398362e+07 4.91633949e+04]\n",
      " [3.92857419e+07 4.97957022e+04]\n",
      " [4.00412103e+07 5.04320497e+04]\n",
      " [4.08063024e+07 5.10724376e+04]\n",
      " [4.15810790e+07 5.17168658e+04]\n",
      " [4.23656011e+07 5.23653342e+04]\n",
      " [4.31599295e+07 5.30178430e+04]\n",
      " [4.39641252e+07 5.36743921e+04]\n",
      " [4.47782490e+07 5.43349815e+04]\n",
      " [4.56023620e+07 5.49996111e+04]\n",
      " [4.64365250e+07 5.56682811e+04]\n",
      " [4.72807988e+07 5.63409914e+04]\n",
      " [4.81352445e+07 5.70177420e+04]\n",
      " [4.89999229e+07 5.76985329e+04]\n",
      " [4.98748949e+07 5.83833641e+04]\n",
      " [5.07602215e+07 5.90722356e+04]\n",
      " [5.16559636e+07 5.97651474e+04]\n",
      " [5.25621819e+07 6.04620995e+04]\n",
      " [5.34789376e+07 6.11630919e+04]\n",
      " [5.44062914e+07 6.18681246e+04]\n",
      " [5.53443044e+07 6.25771976e+04]\n",
      " [5.62930373e+07 6.32903109e+04]\n",
      " [5.72525511e+07 6.40074645e+04]\n",
      " [5.82229068e+07 6.47286584e+04]\n",
      " [5.92041652e+07 6.54538926e+04]\n",
      " [6.01963872e+07 6.61831671e+04]\n",
      " [6.11996337e+07 6.69164819e+04]\n",
      " [6.22139657e+07 6.76538370e+04]\n",
      " [6.32394441e+07 6.83952325e+04]\n",
      " [6.42761297e+07 6.91406682e+04]\n",
      " [6.53240835e+07 6.98901442e+04]\n",
      " [6.63833664e+07 7.06436605e+04]\n",
      " [6.74540393e+07 7.14012172e+04]\n",
      " [6.85361631e+07 7.21628141e+04]\n",
      " [6.96297987e+07 7.29284513e+04]\n",
      " [7.07350071e+07 7.36981289e+04]\n",
      " [7.18518491e+07 7.44718467e+04]\n",
      " [7.29803856e+07 7.52496048e+04]\n",
      " [7.41206776e+07 7.60314033e+04]\n",
      " [7.52727859e+07 7.68172420e+04]\n",
      " [7.64367715e+07 7.76071211e+04]\n",
      " [7.76126953e+07 7.84010404e+04]\n",
      " [7.88006181e+07 7.91990001e+04]\n",
      " [8.00006010e+07 8.00010000e+04]]\n"
     ]
    }
   ],
   "source": [
    "x= np.linspace(0, 200, num=200)\n",
    "f1 =(6*x**3)+(4*x**3)+(3*x)+1\n",
    "f2 = (2*x**2)+1\n",
    "#print(f1)\n",
    "#print(f2)\n",
    "f1f2 = np.array(list(zip(f1,f2)))\n",
    "print(f1f2)"
   ]
  },
  {
   "cell_type": "code",
   "execution_count": 99,
   "id": "4a7d6f8a",
   "metadata": {
    "scrolled": true
   },
   "outputs": [
    {
     "data": {
      "text/plain": [
       "Text(0.5, 1.0, 'Both f1 and f2 on the same graph')"
      ]
     },
     "execution_count": 99,
     "metadata": {},
     "output_type": "execute_result"
    },
    {
     "data": {
      "image/png": "[encoded data removed]",
      "text/plain": [
       "<Figure size 432x288 with 1 Axes>"
      ]
     },
     "metadata": {
      "needs_background": "light"
     },
     "output_type": "display_data"
    }
   ],
   "source": [
    "plt.plot(f1, label=\"f1\")\n",
    "plt.plot(f2, label = \"f2\")\n",
    "plt.legend()\n",
    "plt.ylim(0,8000)\n",
    "plt.xlabel(\"X-position\")# label for the x axis\n",
    "plt.ylabel(\"Y-position\")# label for the y axis\n",
    "plt.title(\"Both f1 and f2 on the same graph\")"
   ]
  },
  {
   "cell_type": "code",
   "execution_count": 110,
   "id": "da266e81",
   "metadata": {},
   "outputs": [
    {
     "data": {
      "text/plain": [
       "Text(0.5, 1.0, 'f1:$6x^3+4x^3+3^x+1$')"
      ]
     },
     "execution_count": 110,
     "metadata": {},
     "output_type": "execute_result"
    },
    {
     "data": {
      "image/png": "[encoded data removed]",
      "text/plain": [
       "<Figure size 432x288 with 1 Axes>"
      ]
     },
     "metadata": {
      "needs_background": "light"
     },
     "output_type": "display_data"
    }
   ],
   "source": [
    "plt.plot(f1)\n",
    "plt.xlabel(\"X-position\")# label for the x axis\n",
    "plt.ylabel(\"Y-position\")# label for the y axis\n",
    "plt.title(\"f1:$6x^3+4x^3+3^x+1$\")"
   ]
  },
  {
   "cell_type": "code",
   "execution_count": 112,
   "id": "a0f27292",
   "metadata": {},
   "outputs": [
    {
     "data": {
      "text/plain": [
       "Text(0.5, 1.0, 'f2:$2x^2+1$')"
      ]
     },
     "execution_count": 112,
     "metadata": {},
     "output_type": "execute_result"
    },
    {
     "data": {
      "image/png": "[encoded data removed]",
      "text/plain": [
       "<Figure size 432x288 with 1 Axes>"
      ]
     },
     "metadata": {
      "needs_background": "light"
     },
     "output_type": "display_data"
    }
   ],
   "source": [
    "plt.plot(f2)\n",
    "plt.xlabel(\"X-position\")# label for the x axis\n",
    "plt.ylabel(\"Y-position\")# label for the y axis\n",
    "plt.title(\"f2:$2x^2+1$\")"
   ]
  },
  {
   "cell_type": "code",
   "execution_count": 95,
   "id": "bacf1e97",
   "metadata": {},
   "outputs": [
    {
     "name": "stdout",
     "output_type": "stream",
     "text": [
      "[[1.00000000e+00 1.00000000e+00]\n",
      " [1.58214025e+01 3.21606648e+00]\n",
      " [1.00623852e+02 9.86426593e+00]\n",
      " [3.25388395e+02 2.09445983e+01]\n",
      " [7.60096078e+02 3.64570637e+01]\n",
      " [1.47472795e+03 5.64016620e+01]\n",
      " [2.53926505e+03 8.07783934e+01]\n",
      " [4.02368844e+03 1.09587258e+02]\n",
      " [5.99797915e+03 1.42828255e+02]\n",
      " [8.53211824e+03 1.80501385e+02]\n",
      " [1.16960867e+04 2.22606648e+02]\n",
      " [1.55598657e+04 2.69144044e+02]\n",
      " [2.01934362e+04 3.20113573e+02]\n",
      " [2.56667793e+04 3.75515235e+02]\n",
      " [3.20498759e+04 4.35349030e+02]\n",
      " [3.94127072e+04 4.99614958e+02]\n",
      " [4.78252543e+04 5.68313019e+02]\n",
      " [5.73574980e+04 6.41443213e+02]\n",
      " [6.80794196e+04 7.19005540e+02]\n",
      " [8.00610000e+04 8.01000000e+02]]\n"
     ]
    }
   ],
   "source": [
    "x= np.linspace(0, 20, num=20)\n",
    "f1 =(6*x**3)+(4*x**3)+(3*x)+1\n",
    "f2 = (2*x**2)+1\n",
    "#print(f1)\n",
    "#print(f2)\n",
    "f1f2 = np.array(list(zip(f1,f2)))\n",
    "print(f1f2)"
   ]
  },
  {
   "cell_type": "code",
   "execution_count": 107,
   "id": "6901797f",
   "metadata": {},
   "outputs": [
    {
     "data": {
      "image/png": "[encoded data removed]",
      "text/plain": [
       "<Figure size 432x288 with 1 Axes>"
      ]
     },
     "metadata": {
      "needs_background": "light"
     },
     "output_type": "display_data"
    }
   ],
   "source": [
    "plt.plot(f1, label=\"f1\")\n",
    "plt.plot(f2, label = \"f2\")\n",
    "plt.legend()\n",
    "plt.ylim(0,8000)\n",
    "plt.xlabel(\"X-position\")# label for the x axis\n",
    "plt.ylabel(\"Y-position\")# label for the y axis\n",
    "plt.title(\"Both f1 and f2 on the same graph\")\n",
    "plt.tick_params(labelsize=12)"
   ]
  },
  {
   "cell_type": "code",
   "execution_count": 111,
   "id": "03094bc0",
   "metadata": {
    "scrolled": true
   },
   "outputs": [
    {
     "data": {
      "image/png": "[encoded data removed]",
      "text/plain": [
       "<Figure size 432x288 with 1 Axes>"
      ]
     },
     "metadata": {
      "needs_background": "light"
     },
     "output_type": "display_data"
    }
   ],
   "source": [
    "plt.plot(f1)\n",
    "plt.xlabel(\"X-position\")# label for the x axis\n",
    "plt.ylabel(\"Y-position\")# label for the y axis\n",
    "plt.title(\"f1:$6x^3+4x^3+3^x+1$\")\n",
    "plt.tick_params(labelsize=12)"
   ]
  },
  {
   "cell_type": "code",
   "execution_count": 113,
   "id": "74d7e030",
   "metadata": {},
   "outputs": [
    {
     "data": {
      "image/png": "[encoded data removed]",
      "text/plain": [
       "<Figure size 432x288 with 1 Axes>"
      ]
     },
     "metadata": {
      "needs_background": "light"
     },
     "output_type": "display_data"
    }
   ],
   "source": [
    "plt.plot(f2)\n",
    "plt.xlabel(\"X-position\")# label for the x axis\n",
    "plt.ylabel(\"Y-position\")# label for the y axis\n",
    "plt.title(\"f2:$2x^2+1$\")\n",
    "plt.tick_params(labelsize=12)"
   ]
  },
  {
   "cell_type": "markdown",
   "id": "3b22a82c",
   "metadata": {},
   "source": [
    "### 10. Generating Primes (Newman Exercise 2.12) 20 points"
   ]
  },
  {
   "cell_type": "code",
   "execution_count": 17,
   "id": "974bd50e",
   "metadata": {},
   "outputs": [
    {
     "name": "stdout",
     "output_type": "stream",
     "text": [
      "[2, 3, 5, 7, 11, 13, 17, 19, 23, 29, 31, 37, 41, 43, 47, 53, 59, 61, 67, 71, 73, 79, 83, 89, 97, 101, 103, 107, 109, 113, 127, 131, 137, 139, 149, 151, 157, 163, 167, 173, 179, 181, 191, 193, 197, 199, 211, 223, 227, 229, 233, 239, 241, 251, 257, 263, 269, 271, 277, 281, 283, 293, 307, 311, 313, 317, 331, 337, 347, 349, 353, 359, 367, 373, 379, 383, 389, 397, 401, 409, 419, 421, 431, 433, 439, 443, 449, 457, 461, 463, 467, 479, 487, 491, 499, 503, 509, 521, 523, 541, 547, 557, 563, 569, 571, 577, 587, 593, 599, 601, 607, 613, 617, 619, 631, 641, 643, 647, 653, 659, 661, 673, 677, 683, 691, 701, 709, 719, 727, 733, 739, 743, 751, 757, 761, 769, 773, 787, 797, 809, 811, 821, 823, 827, 829, 839, 853, 857, 859, 863, 877, 881, 883, 887, 907, 911, 919, 929, 937, 941, 947, 953, 967, 971, 977, 983, 991, 997, 1009, 1013, 1019, 1021, 1031, 1033, 1039, 1049, 1051, 1061, 1063, 1069, 1087, 1091, 1093, 1097, 1103, 1109, 1117, 1123, 1129, 1151, 1153, 1163, 1171, 1181, 1187, 1193, 1201, 1213, 1217, 1223, 1229, 1231, 1237, 1249, 1259, 1277, 1279, 1283, 1289, 1291, 1297, 1301, 1303, 1307, 1319, 1321, 1327, 1361, 1367, 1373, 1381, 1399, 1409, 1423, 1427, 1429, 1433, 1439, 1447, 1451, 1453, 1459, 1471, 1481, 1483, 1487, 1489, 1493, 1499, 1511, 1523, 1531, 1543, 1549, 1553, 1559, 1567, 1571, 1579, 1583, 1597, 1601, 1607, 1609, 1613, 1619, 1621, 1627, 1637, 1657, 1663, 1667, 1669, 1693, 1697, 1699, 1709, 1721, 1723, 1733, 1741, 1747, 1753, 1759, 1777, 1783, 1787, 1789, 1801, 1811, 1823, 1831, 1847, 1861, 1867, 1871, 1873, 1877, 1879, 1889, 1901, 1907, 1913, 1931, 1933, 1949, 1951, 1973, 1979, 1987, 1993, 1997, 1999, 2003, 2011, 2017, 2027, 2029, 2039, 2053, 2063, 2069, 2081, 2083, 2087, 2089, 2099, 2111, 2113, 2129, 2131, 2137, 2141, 2143, 2153, 2161, 2179, 2203, 2207, 2213, 2221, 2237, 2239, 2243, 2251, 2267, 2269, 2273, 2281, 2287, 2293, 2297, 2309, 2311, 2333, 2339, 2341, 2347, 2351, 2357, 2371, 2377, 2381, 2383, 2389, 2393, 2399, 2411, 2417, 2423, 2437, 2441, 2447, 2459, 2467, 2473, 2477, 2503, 2521, 2531, 2539, 2543, 2549, 2551, 2557, 2579, 2591, 2593, 2609, 2617, 2621, 2633, 2647, 2657, 2659, 2663, 2671, 2677, 2683, 2687, 2689, 2693, 2699, 2707, 2711, 2713, 2719, 2729, 2731, 2741, 2749, 2753, 2767, 2777, 2789, 2791, 2797, 2801, 2803, 2819, 2833, 2837, 2843, 2851, 2857, 2861, 2879, 2887, 2897, 2903, 2909, 2917, 2927, 2939, 2953, 2957, 2963, 2969, 2971, 2999, 3001, 3011, 3019, 3023, 3037, 3041, 3049, 3061, 3067, 3079, 3083, 3089, 3109, 3119, 3121, 3137, 3163, 3167, 3169, 3181, 3187, 3191, 3203, 3209, 3217, 3221, 3229, 3251, 3253, 3257, 3259, 3271, 3299, 3301, 3307, 3313, 3319, 3323, 3329, 3331, 3343, 3347, 3359, 3361, 3371, 3373, 3389, 3391, 3407, 3413, 3433, 3449, 3457, 3461, 3463, 3467, 3469, 3491, 3499, 3511, 3517, 3527, 3529, 3533, 3539, 3541, 3547, 3557, 3559, 3571, 3581, 3583, 3593, 3607, 3613, 3617, 3623, 3631, 3637, 3643, 3659, 3671, 3673, 3677, 3691, 3697, 3701, 3709, 3719, 3727, 3733, 3739, 3761, 3767, 3769, 3779, 3793, 3797, 3803, 3821, 3823, 3833, 3847, 3851, 3853, 3863, 3877, 3881, 3889, 3907, 3911, 3917, 3919, 3923, 3929, 3931, 3943, 3947, 3967, 3989, 4001, 4003, 4007, 4013, 4019, 4021, 4027, 4049, 4051, 4057, 4073, 4079, 4091, 4093, 4099, 4111, 4127, 4129, 4133, 4139, 4153, 4157, 4159, 4177, 4201, 4211, 4217, 4219, 4229, 4231, 4241, 4243, 4253, 4259, 4261, 4271, 4273, 4283, 4289, 4297, 4327, 4337, 4339, 4349, 4357, 4363, 4373, 4391, 4397, 4409, 4421, 4423, 4441, 4447, 4451, 4457, 4463, 4481, 4483, 4493, 4507, 4513, 4517, 4519, 4523, 4547, 4549, 4561, 4567, 4583, 4591, 4597, 4603, 4621, 4637, 4639, 4643, 4649, 4651, 4657, 4663, 4673, 4679, 4691, 4703, 4721, 4723, 4729, 4733, 4751, 4759, 4783, 4787, 4789, 4793, 4799, 4801, 4813, 4817, 4831, 4861, 4871, 4877, 4889, 4903, 4909, 4919, 4931, 4933, 4937, 4943, 4951, 4957, 4967, 4969, 4973, 4987, 4993, 4999, 5003, 5009, 5011, 5021, 5023, 5039, 5051, 5059, 5077, 5081, 5087, 5099, 5101, 5107, 5113, 5119, 5147, 5153, 5167, 5171, 5179, 5189, 5197, 5209, 5227, 5231, 5233, 5237, 5261, 5273, 5279, 5281, 5297, 5303, 5309, 5323, 5333, 5347, 5351, 5381, 5387, 5393, 5399, 5407, 5413, 5417, 5419, 5431, 5437, 5441, 5443, 5449, 5471, 5477, 5479, 5483, 5501, 5503, 5507, 5519, 5521, 5527, 5531, 5557, 5563, 5569, 5573, 5581, 5591, 5623, 5639, 5641, 5647, 5651, 5653, 5657, 5659, 5669, 5683, 5689, 5693, 5701, 5711, 5717, 5737, 5741, 5743, 5749, 5779, 5783, 5791, 5801, 5807, 5813, 5821, 5827, 5839, 5843, 5849, 5851, 5857, 5861, 5867, 5869, 5879, 5881, 5897, 5903, 5923, 5927, 5939, 5953, 5981, 5987, 6007, 6011, 6029, 6037, 6043, 6047, 6053, 6067, 6073, 6079, 6089, 6091, 6101, 6113, 6121, 6131, 6133, 6143, 6151, 6163, 6173, 6197, 6199, 6203, 6211, 6217, 6221, 6229, 6247, 6257, 6263, 6269, 6271, 6277, 6287, 6299, 6301, 6311, 6317, 6323, 6329, 6337, 6343, 6353, 6359, 6361, 6367, 6373, 6379, 6389, 6397, 6421, 6427, 6449, 6451, 6469, 6473, 6481, 6491, 6521, 6529, 6547, 6551, 6553, 6563, 6569, 6571, 6577, 6581, 6599, 6607, 6619, 6637, 6653, 6659, 6661, 6673, 6679, 6689, 6691, 6701, 6703, 6709, 6719, 6733, 6737, 6761, 6763, 6779, 6781, 6791, 6793, 6803, 6823, 6827, 6829, 6833, 6841, 6857, 6863, 6869, 6871, 6883, 6899, 6907, 6911, 6917, 6947, 6949, 6959, 6961, 6967, 6971, 6977, 6983, 6991, 6997, 7001, 7013, 7019, 7027, 7039, 7043, 7057, 7069, 7079, 7103, 7109, 7121, 7127, 7129, 7151, 7159, 7177, 7187, 7193, 7207, 7211, 7213, 7219, 7229, 7237, 7243, 7247, 7253, 7283, 7297, 7307, 7309, 7321, 7331, 7333, 7349, 7351, 7369, 7393, 7411, 7417, 7433, 7451, 7457, 7459, 7477, 7481, 7487, 7489, 7499, 7507, 7517, 7523, 7529, 7537, 7541, 7547, 7549, 7559, 7561, 7573, 7577, 7583, 7589, 7591, 7603, 7607, 7621, 7639, 7643, 7649, 7669, 7673, 7681, 7687, 7691, 7699, 7703, 7717, 7723, 7727, 7741, 7753, 7757, 7759, 7789, 7793, 7817, 7823, 7829, 7841, 7853, 7867, 7873, 7877, 7879, 7883, 7901, 7907, 7919, 7927, 7933, 7937, 7949, 7951, 7963, 7993, 8009, 8011, 8017, 8039, 8053, 8059, 8069, 8081, 8087, 8089, 8093, 8101, 8111, 8117, 8123, 8147, 8161, 8167, 8171, 8179, 8191, 8209, 8219, 8221, 8231, 8233, 8237, 8243, 8263, 8269, 8273, 8287, 8291, 8293, 8297, 8311, 8317, 8329, 8353, 8363, 8369, 8377, 8387, 8389, 8419, 8423, 8429, 8431, 8443, 8447, 8461, 8467, 8501, 8513, 8521, 8527, 8537, 8539, 8543, 8563, 8573, 8581, 8597, 8599, 8609, 8623, 8627, 8629, 8641, 8647, 8663, 8669, 8677, 8681, 8689, 8693, 8699, 8707, 8713, 8719, 8731, 8737, 8741, 8747, 8753, 8761, 8779, 8783, 8803, 8807, 8819, 8821, 8831, 8837, 8839, 8849, 8861, 8863, 8867, 8887, 8893, 8923, 8929, 8933, 8941, 8951, 8963, 8969, 8971, 8999, 9001, 9007, 9011, 9013, 9029, 9041, 9043, 9049, 9059, 9067, 9091, 9103, 9109, 9127, 9133, 9137, 9151, 9157, 9161, 9173, 9181, 9187, 9199, 9203, 9209, 9221, 9227, 9239, 9241, 9257, 9277, 9281, 9283, 9293, 9311, 9319, 9323, 9337, 9341, 9343, 9349, 9371, 9377, 9391, 9397, 9403, 9413, 9419, 9421, 9431, 9433, 9437, 9439, 9461, 9463, 9467, 9473, 9479, 9491, 9497, 9511, 9521, 9533, 9539, 9547, 9551, 9587, 9601, 9613, 9619, 9623, 9629, 9631, 9643, 9649, 9661, 9677, 9679, 9689, 9697, 9719, 9721, 9733, 9739, 9743, 9749, 9767, 9769, 9781, 9787, 9791, 9803, 9811, 9817, 9829, 9833, 9839, 9851, 9857, 9859, 9871, 9883, 9887, 9901, 9907, 9923, 9929, 9931, 9941, 9949, 9967, 9973]\n",
      "[   2    3    5 ... 9949 9967 9973]\n"
     ]
    }
   ],
   "source": [
    "import numpy as np\n",
    "x=[]\n",
    "for r in range(2,10001):\n",
    "    a= 0\n",
    "    for i in range(1,r+1):\n",
    "        if (r % i)== 0:\n",
    "            a += 1\n",
    "    if a<=2:\n",
    "        x.append(r)\n",
    "prime = np.array(list(x))\n",
    "print (x)\n",
    "print(prime)"
   ]
  },
  {
   "cell_type": "markdown",
   "id": "e0ccca5e",
   "metadata": {},
   "source": [
    "### 11. Random Number generation: Rolling Dice"
   ]
  },
  {
   "cell_type": "code",
   "execution_count": 3,
   "id": "6313a736",
   "metadata": {},
   "outputs": [
    {
     "name": "stdout",
     "output_type": "stream",
     "text": [
      "[11 16 23 15 19 17]\n"
     ]
    },
    {
     "data": {
      "image/png": "[encoded data removed]",
      "text/plain": [
       "<Figure size 432x288 with 1 Axes>"
      ]
     },
     "metadata": {
      "needs_background": "light"
     },
     "output_type": "display_data"
    },
    {
     "name": "stdout",
     "output_type": "stream",
     "text": [
      "11\n"
     ]
    }
   ],
   "source": [
    "import numpy as np\n",
    "import matplotlib.pyplot as plt \n",
    "dice=[]\n",
    "count =[]\n",
    "count1,count2,count3,count4,count5,count6=0,0,0,0,0,0\n",
    "for r in range(0,101):\n",
    "    random = np.random.randint(1,7)\n",
    "    count.append(random)\n",
    "    if random == 1:\n",
    "        count1 += 1\n",
    "    elif random == 2:\n",
    "        count2 += 1\n",
    "    elif random == 3:\n",
    "        count3 += 1\n",
    "    elif random == 4:\n",
    "        count4+= 1\n",
    "    elif random == 5:\n",
    "        count5 += 1\n",
    "    elif random == 6:\n",
    "        count6 += 1\n",
    "dice.append(count1)\n",
    "dice.append(count2)\n",
    "dice.append(count3)\n",
    "dice.append(count4)\n",
    "dice.append(count5)\n",
    "dice.append(count6)\n",
    "dice =np.array(list(dice))\n",
    "print(dice)\n",
    "plt.hist(count) \n",
    "plt.show()\n",
    "\n",
    "print(count.count(1))"
   ]
  },
  {
   "cell_type": "code",
   "execution_count": 18,
   "id": "f2549e9f",
   "metadata": {},
   "outputs": [
    {
     "name": "stdout",
     "output_type": "stream",
     "text": [
      "[1999365 2001807 1999547 1999923 2001150 1998321]\n"
     ]
    },
    {
     "data": {
      "image/png": "[encoded data removed]",
      "text/plain": [
       "<Figure size 432x288 with 1 Axes>"
      ]
     },
     "metadata": {
      "needs_background": "light"
     },
     "output_type": "display_data"
    }
   ],
   "source": [
    "import matplotlib.pyplot as plt \n",
    "dice =[]\n",
    "count=[]\n",
    "for r in range(0,1000001):\n",
    "    random = np.random.randint(1,7)\n",
    "    count.append(random)\n",
    "    if random == 1:\n",
    "        count1 += 1\n",
    "    elif random == 2:\n",
    "        count2 += 1\n",
    "    elif random == 3:\n",
    "        count3 += 1\n",
    "    elif random == 4:\n",
    "        count4+= 1\n",
    "    elif random == 5:\n",
    "        count5 += 1\n",
    "    elif random == 6:\n",
    "        count6 += 1\n",
    "dice.append(count1)\n",
    "dice.append(count2)\n",
    "dice.append(count3)\n",
    "dice.append(count4)\n",
    "dice.append(count5)\n",
    "dice.append(count6)\n",
    "dice =np.array(list(dice))\n",
    "print(dice)\n",
    "plt.hist(count) \n",
    "plt.show()# density=False would make counts"
   ]
  },
  {
   "cell_type": "code",
   "execution_count": null,
   "id": "ac1b29eb",
   "metadata": {},
   "outputs": [],
   "source": [
    "import numpy as np\n",
    "dice=[]\n",
    "count1,count2,count3,count4,count5,count6=0,0,0,0,0,0\n",
    "for r in range(0,101):\n",
    "    random1 = np.random.randint(1,7)\n",
    "    random2 = np.random.randint(1,7)\n",
    "    if random1 == random2:\n",
    "        if \n",
    "        count1 += 1\n",
    "    elif random == 2:\n",
    "        count2 += 1\n",
    "    elif random == 3:\n",
    "        count3 += 1\n",
    "    elif random == 4:\n",
    "        count4+= 1\n",
    "    elif random == 5:\n",
    "        count5 += 1\n",
    "    elif random == 6:\n",
    "        count6 += 1\n",
    "dice.append(count1)\n",
    "dice.append(count2)\n",
    "dice.append(count3)\n",
    "dice.append(count4)\n",
    "dice.append(count5)\n",
    "dice.append(count6)\n",
    "dice =np.array(list(dice))"
   ]
  }
 ],
 "metadata": {
  "kernelspec": {
   "display_name": "Python 3",
   "language": "python",
   "name": "python3"
  },
  "language_info": {
   "codemirror_mode": {
    "name": "ipython",
    "version": 3
   },
   "file_extension": ".py",
   "mimetype": "text/x-python",
   "name": "python",
   "nbconvert_exporter": "python",
   "pygments_lexer": "ipython3",
   "version": "3.8.8"
  }
 },
 "nbformat": 4,
 "nbformat_minor": 5
}
